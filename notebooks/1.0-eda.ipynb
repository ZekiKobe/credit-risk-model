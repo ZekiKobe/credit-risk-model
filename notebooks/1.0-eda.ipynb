{
 "cells": [
  {
   "cell_type": "markdown",
   "id": "fdcd5b9f",
   "metadata": {},
   "source": [
    "### Task 2: Exploratory Data Analysis (EDA)"
   ]
  },
  {
   "cell_type": "code",
   "execution_count": null,
   "id": "863da2e6",
   "metadata": {
    "vscode": {
     "languageId": "plaintext"
    }
   },
   "outputs": [],
   "source": [
    "import pandas as pd\n",
    "import numpy as np\n",
    "import matplotlib.pyplot as plt\n",
    "import seaborn as sns\n",
    "\n",
    "# Load data\n",
    "df = pd.read_csv('../data/raw/data.csv')\n",
    "\n",
    "# 1. Initial Overview\n",
    "print(df.info())\n",
    "print(df.describe())\n",
    "print(df.nunique())\n",
    "\n",
    "# 2. Data Quality Check\n",
    "print(\"Missing values:\\n\", df.isnull().sum())\n",
    "\n",
    "# 3. Transaction Amount Analysis\n",
    "plt.figure(figsize=(12,6))\n",
    "sns.histplot(df['Amount'], bins=50)\n",
    "plt.title('Distribution of Transaction Amounts')\n",
    "plt.show()\n",
    "\n",
    "# 4. Fraud Analysis\n",
    "fraud_rate = df['FraudResult'].mean()\n",
    "print(f\"Fraud rate: {fraud_rate:.2%}\")\n",
    "\n",
    "# 5. RFM Analysis (Potential Proxy Variable)\n",
    "# Calculate Recency, Frequency, Monetary metrics per customer\n",
    "rfm = df.groupby('AccountId').agg({\n",
    "    'TransactionStartTime': lambda x: (df['TransactionStartTime'].max() - x.max()).days,\n",
    "    'TransactionId': 'count',\n",
    "    'Amount': ['sum', 'mean']\n",
    "})\n",
    "\n",
    "# 6. Correlation Analysis\n",
    "corr_matrix = df.select_dtypes(include=[np.number]).corr()\n",
    "sns.heatmap(corr_matrix, annot=True)\n",
    "plt.title('Correlation Matrix')\n",
    "plt.show()"
   ]
  }
 ],
 "metadata": {
  "language_info": {
   "name": "python"
  }
 },
 "nbformat": 4,
 "nbformat_minor": 5
}
